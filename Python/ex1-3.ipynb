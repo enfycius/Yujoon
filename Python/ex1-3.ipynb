{
 "cells": [
  {
   "cell_type": "code",
   "execution_count": null,
   "metadata": {},
   "outputs": [],
   "source": [
    "# a = float(input())\n",
    "\n",
    "# 문제 발생: a = int(input())\n",
    "# 값 입력: 1.1\n",
    "\n",
    "# 위의 문제 해결하려고 할 시,\n",
    "\n",
    "a = int(float(input()))\n",
    "\n",
    "print(a)"
   ]
  },
  {
   "cell_type": "code",
   "execution_count": null,
   "metadata": {},
   "outputs": [],
   "source": [
    "# a = input()\n",
    "\n",
    "# input: 문자열(양쪽에 큰 따옴표가 있음.)을 반환(return)해주는 함수\n",
    "\n",
    "# print(a + 2.1)\n",
    "\n",
    "# 1 + 2.1 = 3.1\n",
    "# 1.1 + 2.1 = 3.2\n",
    "\n",
    "# 변수는 항상 어떠한 값을 저장하는 데 사용되는 용도를 가지고 있다.\n",
    "\n",
    "# 변수는 변하는 수이기 때문에 처음에 어떠한 값을 저장을 해두고, 나중에 그 값을 바꾸고 싶을 때 다시 바꿔도 문제가 발생하지 않음.\n",
    "\n",
    "# 변수: 값이 바뀌는 수 <-> 상수: 값이 바뀌지 않는 수\n",
    "\n",
    "# '상수': 값을 저장하는 데 , 그 값이 바뀔 수 없음.\n",
    "\n",
    "# def input():\n",
    "#     a = \"10\"\n",
    "    \n",
    "#     return a\n",
    "\n",
    "# print(\"사용자가 입력한 값: \" + a)\n",
    "\n",
    "# int\n",
    "\n",
    "# int: integer(정수)의 약자, 정수: 소수점이 없는 숫자\n",
    "\n",
    "# float: float(실수), 실수: 소수점이 있는 숫자\n",
    "\n",
    "# \"100\"\n",
    "\n",
    "# print(\"Hello\" + \" World\")\n",
    "\n",
    "# 큰따옴표: 문자: 1개, 문자열: 2개 이상"
   ]
  },
  {
   "cell_type": "code",
   "execution_count": null,
   "metadata": {},
   "outputs": [],
   "source": [
    "i = 0\n",
    "\n",
    "while i < 50:\n",
    "    # 반복되야 하는 내용\n",
    "    i = i + 1       # 제일 중요한 문장"
   ]
  }
 ],
 "metadata": {
  "language_info": {
   "name": "python"
  },
  "orig_nbformat": 4
 },
 "nbformat": 4,
 "nbformat_minor": 2
}
