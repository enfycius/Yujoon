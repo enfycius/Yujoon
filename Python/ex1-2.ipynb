{
 "cells": [
  {
   "cell_type": "code",
   "execution_count": 1,
   "metadata": {},
   "outputs": [
    {
     "name": "stdout",
     "output_type": "stream",
     "text": [
      "Hello\n"
     ]
    }
   ],
   "source": [
    "print(\"Hello\")"
   ]
  },
  {
   "cell_type": "code",
   "execution_count": 2,
   "metadata": {},
   "outputs": [],
   "source": [
    "a = 10"
   ]
  },
  {
   "cell_type": "code",
   "execution_count": 3,
   "metadata": {},
   "outputs": [
    {
     "name": "stdout",
     "output_type": "stream",
     "text": [
      "10\n"
     ]
    }
   ],
   "source": [
    "print(a)"
   ]
  },
  {
   "attachments": {},
   "cell_type": "markdown",
   "metadata": {},
   "source": [
    "# Functions"
   ]
  },
  {
   "attachments": {},
   "cell_type": "markdown",
   "metadata": {},
   "source": [
    "1 + 1 = 2\n",
    "\n",
    "a + b = 2\n",
    "\n",
    "0 + 2 = 2\n",
    "\n",
    "a = 0\n",
    "b = 2\n",
    "\n",
    "2 + 0 = 2\n",
    "\n",
    "a = 2\n",
    "b = 0\n",
    "\n",
    "a = -1\n",
    "b = 3\n",
    "\n",
    "-1 + 3 = 2\n",
    "\n",
    "\n",
    "\n",
    "f(x) = y\n",
    "\n",
    "\n",
    "x + 1 = 2\n",
    "\n",
    "x = 1\n",
    "\n",
    "\n",
    "f(x) = y = x + 1\n",
    "\n",
    "\n",
    "x = 1\n",
    "y = 2\n",
    "\n",
    "x = 0.5\n",
    "y = 1.5\n",
    "\n",
    "x = -0.5\n",
    "y = 0.5\n",
    "\n",
    "x = -1\n",
    "y = 0\n",
    "\n",
    "x = 2\n",
    "y = 3\n",
    "\n",
    "x = -2\n",
    "y = -1\n",
    "\n",
    "\n",
    "\n",
    "\n",
    "\n",
    "\n"
   ]
  },
  {
   "attachments": {},
   "cell_type": "markdown",
   "metadata": {},
   "source": [
    "뭔가를 정의하다.\n",
    "\n",
    "정의하다.\n",
    "\n",
    "define\n",
    "\n",
    "return\n",
    "\n",
    "돌아오다.\n",
    "\n",
    "\n"
   ]
  },
  {
   "cell_type": "code",
   "execution_count": null,
   "metadata": {},
   "outputs": [],
   "source": [
    "a = 10"
   ]
  },
  {
   "cell_type": "code",
   "execution_count": 3,
   "metadata": {},
   "outputs": [],
   "source": [
    "def add(a, b, c):\n",
    "    return a + b + c"
   ]
  },
  {
   "cell_type": "code",
   "execution_count": 6,
   "metadata": {},
   "outputs": [],
   "source": [
    "def greeting():\n",
    "    print(\"Hello World\")\n",
    "    print(\"Hello Yujoon\")"
   ]
  },
  {
   "cell_type": "code",
   "execution_count": 4,
   "metadata": {},
   "outputs": [
    {
     "name": "stdout",
     "output_type": "stream",
     "text": [
      "10\n"
     ]
    }
   ],
   "source": [
    "print(add(2, 3, 5))"
   ]
  },
  {
   "cell_type": "code",
   "execution_count": 7,
   "metadata": {},
   "outputs": [
    {
     "name": "stdout",
     "output_type": "stream",
     "text": [
      "Hello World\n",
      "Hello Yujoon\n"
     ]
    }
   ],
   "source": [
    "greeting()"
   ]
  },
  {
   "cell_type": "code",
   "execution_count": 8,
   "metadata": {},
   "outputs": [],
   "source": [
    "from mcpi.minecraft import Minecraft"
   ]
  },
  {
   "cell_type": "code",
   "execution_count": 9,
   "metadata": {},
   "outputs": [],
   "source": [
    "mc = Minecraft.create()"
   ]
  },
  {
   "cell_type": "code",
   "execution_count": 10,
   "metadata": {},
   "outputs": [],
   "source": [
    "def growTree(x, y, z):\n",
    "    wood = 17\n",
    "    leaves = 18\n",
    "\n",
    "    mc.setBlocks(x, y, z, x, y + 5, z, wood)\n",
    "\n",
    "    mc.setBlocks(x - 2, y + 6, z - 2, x + 2, y + 6, z + 2, leaves)\n",
    "    mc.setBlocks(x - 1, y + 7, z - 1, x + 1, y + 7, z + 1, leaves)\n"
   ]
  },
  {
   "cell_type": "code",
   "execution_count": 12,
   "metadata": {},
   "outputs": [],
   "source": [
    "pos = mc.player.getTilePos()\n",
    "\n",
    "x = pos.x\n",
    "y = pos.y\n",
    "z = pos.z"
   ]
  },
  {
   "cell_type": "code",
   "execution_count": 13,
   "metadata": {},
   "outputs": [],
   "source": [
    "growTree(x + 1, y, z)\n",
    "growTree(x + 10, y, z)\n",
    "growTree(x + 20, y, z)"
   ]
  },
  {
   "cell_type": "code",
   "execution_count": 14,
   "metadata": {},
   "outputs": [],
   "source": [
    "for i in range(0, 100):\n",
    "    growTree(x + i + 10, y, z)\n"
   ]
  },
  {
   "cell_type": "code",
   "execution_count": null,
   "metadata": {},
   "outputs": [],
   "source": [
    "import time\n",
    "import random\n",
    "from mcpi.minecraft import Minecraft\n",
    "mc = Minecraft.create()\n",
    "\n",
    "count = 0\n",
    "while count < 5:\n",
    "    x = random.randrange(-127, 128)\n",
    "    y = random.randrange(0, 64)\n",
    "    z = random.randrange(-127, 128)\n",
    "\n",
    "    mc.postToChat(\"x:\"+str(x))\n",
    "    mc.postToChat(\"Y:\"+str(y))\n",
    "    mc.postToChat(\"Z:\"+str(z))\n",
    "    mc.player.setTilePos(x, y, z)\n",
    "    count += 1\n",
    "    time.sleep(10)"
   ]
  }
 ],
 "metadata": {
  "kernelspec": {
   "display_name": "base",
   "language": "python",
   "name": "python3"
  },
  "language_info": {
   "codemirror_mode": {
    "name": "ipython",
    "version": 3
   },
   "file_extension": ".py",
   "mimetype": "text/x-python",
   "name": "python",
   "nbconvert_exporter": "python",
   "pygments_lexer": "ipython3",
   "version": "3.10.9"
  },
  "orig_nbformat": 4
 },
 "nbformat": 4,
 "nbformat_minor": 2
}
